{
 "cells": [
  {
   "cell_type": "markdown",
   "id": "33dcefb2",
   "metadata": {},
   "source": [
    "# PBC LIMITED\n",
    "#### Automations and data queries and structures"
   ]
  },
  {
   "cell_type": "markdown",
   "id": "0386f6d6",
   "metadata": {},
   "source": [
    "##### Drafting a Bill Memo for payments"
   ]
  },
  {
   "cell_type": "markdown",
   "id": "a25304b9",
   "metadata": {},
   "source": [
    "OBRAD SECURITY"
   ]
  },
  {
   "cell_type": "code",
   "execution_count": 32,
   "id": "f79cfde3",
   "metadata": {},
   "outputs": [
    {
     "name": "stdout",
     "output_type": "stream",
     "text": [
      "\n",
      "    \n",
      "Bill for the month of October\n",
      "\n",
      "Kindly approve for the payment of GHC100.00 for the month of \\gOctober.\n",
      "\n",
      "Submitted Please\n",
      "\n",
      "\n",
      "R. K. Boateng\n",
      "\n",
      "\n"
     ]
    }
   ],
   "source": [
    "def current_bill(month, amount):\n",
    "    \n",
    "    print(f'''\n",
    "    \n",
    "Bill for the month of {month}\n",
    "\\nKindly approve for the payment of GHC{amount:.2f} for the month of {month}.\n",
    "\n",
    "Submitted Please\n",
    "\n",
    "\n",
    "R. K. Boateng\n",
    "\n",
    "''')\n",
    "\n",
    "#current_bill(month, amount)\n",
    "current_bill('October', 100.00)"
   ]
  },
  {
   "cell_type": "code",
   "execution_count": 27,
   "id": "eac40e56",
   "metadata": {},
   "outputs": [
    {
     "name": "stdout",
     "output_type": "stream",
     "text": [
      "Hello\n",
      "World\n",
      "Hello\r",
      "World\n",
      "Hello\tWorld\n",
      "Hello\bWorld\n",
      "Hello\f",
      "World\n",
      "Escape the backslash: \\\n",
      "She said, 'Hello'\n",
      "He said, \"Hi\"\n",
      "\u0007Beep!\n",
      "Vertical\u000b",
      "Tab\n",
      "Ω\n",
      "😉\n"
     ]
    }
   ],
   "source": [
    "print(\"Hello\\nWorld\")      # Newline\n",
    "print(\"Hello\\rWorld\")      # Carriage Return\n",
    "print(\"Hello\\tWorld\")      # Tab\n",
    "print(\"Hello\\bWorld\")      # Backspace\n",
    "print(\"Hello\\fWorld\")      # Form Feed\n",
    "print(\"Escape the backslash: \\\\\")\n",
    "print(\"She said, 'Hello'\")\n",
    "print('He said, \"Hi\"')\n",
    "print(\"\\aBeep!\")\n",
    "print(\"Vertical\\vTab\")\n",
    "print(\"\\u03A9\")            # Unicode character (Greek capital letter omega)\n",
    "print(\"\\U0001F609\")        # Unicode character (😉)\n"
   ]
  },
  {
   "cell_type": "markdown",
   "id": "ecd4484e",
   "metadata": {},
   "source": [
    "CLEANING DYNAMICS LIMITED\n",
    "\n",
    "\n",
    "\n",
    "\n",
    "\n",
    "\n",
    "###### END"
   ]
  },
  {
   "cell_type": "markdown",
   "id": "452984d2",
   "metadata": {},
   "source": [
    "KANOF LIMITED\n",
    "\n",
    "\n",
    "\n",
    "\n",
    "\n",
    "\n",
    "###### END"
   ]
  },
  {
   "cell_type": "markdown",
   "id": "7193a376",
   "metadata": {},
   "source": [
    "KIDSRITE\n",
    "\n",
    "###### END"
   ]
  },
  {
   "cell_type": "markdown",
   "id": "d0c9a2c1",
   "metadata": {},
   "source": []
  },
  {
   "cell_type": "markdown",
   "id": "b58f7f92",
   "metadata": {},
   "source": [
    "Base 2"
   ]
  }
 ],
 "metadata": {
  "kernelspec": {
   "display_name": "Python 3 (ipykernel)",
   "language": "python",
   "name": "python3"
  },
  "language_info": {
   "codemirror_mode": {
    "name": "ipython",
    "version": 3
   },
   "file_extension": ".py",
   "mimetype": "text/x-python",
   "name": "python",
   "nbconvert_exporter": "python",
   "pygments_lexer": "ipython3",
   "version": "3.11.5"
  }
 },
 "nbformat": 4,
 "nbformat_minor": 5
}
